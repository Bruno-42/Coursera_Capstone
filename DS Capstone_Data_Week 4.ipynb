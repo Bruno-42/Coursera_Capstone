{
 "cells": [
  {
   "cell_type": "markdown",
   "id": "a3d96ff6",
   "metadata": {},
   "source": [
    "# DATA SCIENCE CAPSTONE PROJECT: BATTLE OF THE NEIGHBOURHOODS"
   ]
  },
  {
   "cell_type": "markdown",
   "id": "d9ea8388",
   "metadata": {},
   "source": [
    "### Week 4 Report "
   ]
  },
  {
   "cell_type": "markdown",
   "id": "03d04f7d",
   "metadata": {},
   "source": [
    "## OBJECTIVE: Finding the best neighbourhood in Toronto to open a Pakistani restaurant"
   ]
  },
  {
   "cell_type": "markdown",
   "id": "c3a39a7e",
   "metadata": {},
   "source": [
    "### DATA USED IN THE PROJECT"
   ]
  },
  {
   "cell_type": "markdown",
   "id": "7f4b12af",
   "metadata": {},
   "source": [
    "#### Sources:"
   ]
  },
  {
   "cell_type": "markdown",
   "id": "f4ef1f8a",
   "metadata": {},
   "source": [
    "The data sources for this notebook are the following:\n",
    "\n",
    "-  The Neighbourhood Profiles from the 2016 Census Data, obtained from the City of Toronto's open data portal: https://open.toronto.ca/dataset/neighbourhood-profiles/\n",
    "-  The location data for the restaurants in the city, obtained from the Foursquare location data through its API. \n",
    "-  Data on the neighbourhoods of Toronto, obtained by scraping this Wikipedia page.\n"
   ]
  },
  {
   "cell_type": "markdown",
   "id": "f5c23ac3",
   "metadata": {},
   "source": [
    "#### Uses:"
   ]
  },
  {
   "cell_type": "markdown",
   "id": "fcea1921",
   "metadata": {},
   "source": [
    "The data taken from the sources above will help us locate the optimum neighbourhood in which to open a Pakistani restaurant in the following ways:\n",
    "    \n",
    "The Neighbourhood Profiles dataset will help us figure out the demographics of each neighbourhood, which, seeing as how cuisines are tied to ethnicities and cultures, will  be vital to pinpointing the location of a new restaurant.\n",
    "\n",
    "The location data taken from Foursquare will also help by telling us where our competition is. This is also another vital bit of information. No one wants to open a restaurant in a highly competitive area; conversely, if there may be some areas where only certain types of restaurants may succeed, and others may fail. Seeing the layout of the different restaurants may help give a better idea of where we should go.\n",
    "\n",
    "The data taken from the Wikipedia page is essential, because without it we would have no idea where each neighbourhood is, and thus wouldn’t be able to tell where the future restaurant should be.\n"
   ]
  },
  {
   "cell_type": "code",
   "execution_count": null,
   "id": "704394e2",
   "metadata": {},
   "outputs": [],
   "source": []
  }
 ],
 "metadata": {
  "kernelspec": {
   "display_name": "Python 3",
   "language": "python",
   "name": "python3"
  },
  "language_info": {
   "codemirror_mode": {
    "name": "ipython",
    "version": 3
   },
   "file_extension": ".py",
   "mimetype": "text/x-python",
   "name": "python",
   "nbconvert_exporter": "python",
   "pygments_lexer": "ipython3",
   "version": "3.9.4"
  }
 },
 "nbformat": 4,
 "nbformat_minor": 5
}
