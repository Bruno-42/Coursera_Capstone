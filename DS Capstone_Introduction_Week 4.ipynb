{
 "cells": [
  {
   "cell_type": "markdown",
   "id": "4c8ebdba",
   "metadata": {},
   "source": [
    "# DATA SCIENCE CAPSTONE PROJECT: BATTLE OF THE NEIGHBOURHOODS "
   ]
  },
  {
   "cell_type": "markdown",
   "id": "73839eff",
   "metadata": {},
   "source": [
    "### Week 4 Report "
   ]
  },
  {
   "cell_type": "markdown",
   "id": "8dd17627",
   "metadata": {},
   "source": [
    "## OBJECTIVE: Finding the best neighbourhood in Toronto to open a Pakistani restaurant"
   ]
  },
  {
   "cell_type": "markdown",
   "id": "b9c3823a",
   "metadata": {},
   "source": [
    "### INTRODUCTION"
   ]
  },
  {
   "cell_type": "markdown",
   "id": "e016cffe",
   "metadata": {},
   "source": [
    "Toronto is the largest and one of the most important cities of Toronto, with a population of 2,731,571 people. Not only is Toronto the most populated city in Canada, it is also the fourth-largest city in all of North America. Toronto’s cuisine represents the city’s diversity, with different ethnic neighbourhoods throughout the city focusing on different cuisines. A number of culinary festivals take place in Toronto each year. In addition, food tours in Toronto are an increasingly popular way for locals and tourists to explore the food culture of the city.\n",
    "\tToronto is also one of the most popular places in the world for tourists; around about 43.7 million tourists visited Toronto in 2017 alone."
   ]
  },
  {
   "cell_type": "markdown",
   "id": "f3f353c4",
   "metadata": {},
   "source": [
    "#### Business Problem/Idea:"
   ]
  },
  {
   "cell_type": "markdown",
   "id": "2321503f",
   "metadata": {},
   "source": [
    "Being such a vibrant, multicultural hub, Toronto has people of a wide variety of ethnicities, who would undoubtedly enjoy a wide variety of cuisines. For this purpose, our investor has decided to explore its neighbourhoods to see which one is ideal for opening a new restaurant serving mainly Pakistani cuisine."
   ]
  },
  {
   "cell_type": "markdown",
   "id": "11b88ceb",
   "metadata": {},
   "source": [
    "#### Interest:"
   ]
  },
  {
   "cell_type": "markdown",
   "id": "0ade3945",
   "metadata": {},
   "source": [
    "This project can be of interest to a wide variety of investors. The food industry is usually one of the safer choices of business worldwide, and therefore anyone looking to invest their money into a new venture could find this project useful. This project can also be useful to researchers and social scientists looking to get a better grasp on Toronto’s dining culture."
   ]
  },
  {
   "cell_type": "code",
   "execution_count": null,
   "id": "811dcc1a",
   "metadata": {},
   "outputs": [],
   "source": []
  }
 ],
 "metadata": {
  "kernelspec": {
   "display_name": "Python 3",
   "language": "python",
   "name": "python3"
  },
  "language_info": {
   "codemirror_mode": {
    "name": "ipython",
    "version": 3
   },
   "file_extension": ".py",
   "mimetype": "text/x-python",
   "name": "python",
   "nbconvert_exporter": "python",
   "pygments_lexer": "ipython3",
   "version": "3.9.4"
  }
 },
 "nbformat": 4,
 "nbformat_minor": 5
}
