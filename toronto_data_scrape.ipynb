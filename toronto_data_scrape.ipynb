{
 "cells": [
  {
   "cell_type": "markdown",
   "id": "b2c35227",
   "metadata": {},
   "source": [
    "# First Notebook for the Capstone assignment for Week 3"
   ]
  },
  {
   "cell_type": "markdown",
   "id": "f9956bf5",
   "metadata": {},
   "source": [
    "### We import the required libraries"
   ]
  },
  {
   "cell_type": "code",
   "execution_count": 2,
   "id": "fd843613",
   "metadata": {},
   "outputs": [],
   "source": [
    "import urllib.request, urllib.parse, urllib.error\n",
    "from bs4 import BeautifulSoup\n",
    "import ssl\n",
    "import re\n",
    "import pandas as pd\n",
    "import numpy as np"
   ]
  },
  {
   "cell_type": "markdown",
   "id": "cf0b8b87",
   "metadata": {},
   "source": [
    "### First we find the required page, parse it using BeautifulSoup, and scrap the html to get the table"
   ]
  },
  {
   "cell_type": "code",
   "execution_count": 85,
   "id": "4f62876b",
   "metadata": {},
   "outputs": [
    {
     "name": "stdout",
     "output_type": "stream",
     "text": [
      "************Starting to scan page...*********************\n"
     ]
    }
   ],
   "source": [
    "ctx = ssl.create_default_context()\n",
    "ctx.check_hostname = False\n",
    "ctx.verify_mode = ssl.CERT_NONE\n",
    "\n",
    "try:\n",
    "    url = 'https://en.wikipedia.org/wiki/List_of_postal_codes_of_Canada:_M'\n",
    "    html = urllib.request.urlopen(url, context = ctx).read()\n",
    "    soup = BeautifulSoup(html, 'html.parser')\n",
    "except urllib.error.HTTPError as err:\n",
    "    print('***********', err.info())\n",
    "    quit()\n",
    "except Exception as err:    \n",
    "    print(err)\n",
    "    quit()\n",
    "\n",
    "print('************Starting to scan page...*********************')\n",
    "\n",
    "ran_list = []\n",
    "\n",
    "code_table =  soup.find_all('table')[0]\n",
    "\n",
    "code_table_body = code_table.tbody.find_all('tr')\n",
    "\n",
    "for char in code_table_body:\n",
    "    res = char.find_all('td')\n",
    "    ran_list.extend(res)\n"
   ]
  },
  {
   "cell_type": "markdown",
   "id": "060c1c4c",
   "metadata": {},
   "source": [
    "### The following is a function to split the borough and neighbourhood from each table cell..."
   ]
  },
  {
   "cell_type": "code",
   "execution_count": 86,
   "id": "4718824c",
   "metadata": {},
   "outputs": [],
   "source": [
    "def split_address(text):\n",
    "    result = text.split('(')\n",
    "    result[1] = result[1].strip(')')\n",
    "    return result\n"
   ]
  },
  {
   "cell_type": "markdown",
   "id": "09ebe73f",
   "metadata": {},
   "source": [
    "### Then we create a list and for each cell, we add a dictionary containing the postal code, borough and neighbourhood"
   ]
  },
  {
   "cell_type": "code",
   "execution_count": 80,
   "id": "5065998b",
   "metadata": {},
   "outputs": [],
   "source": [
    "toronto_data_list = []\n",
    "\n",
    "for line in ran_list:\n",
    "    addr = line.p.span.text\n",
    "    if addr == 'Not assigned':\n",
    "        pass\n",
    "    else:\n",
    "        addr = split_address(addr)\n",
    "        postal_code = line.text.strip()[:3]\n",
    "        borough = addr[0]\n",
    "        neighbourhood = addr[1]\n",
    "        \n",
    "        row = {'Postal_Code' : postal_code, 'Borough': borough, 'Neighbourhood': neighbourhood}\n",
    "        toronto_data_list.append(row)"
   ]
  },
  {
   "cell_type": "markdown",
   "id": "33080bb8",
   "metadata": {},
   "source": [
    "### Finally, we convert our data to a pandas dataframe, and sort and clean it up"
   ]
  },
  {
   "cell_type": "code",
   "execution_count": 81,
   "id": "72d178e1",
   "metadata": {},
   "outputs": [
    {
     "data": {
      "text/html": [
       "<div>\n",
       "<style scoped>\n",
       "    .dataframe tbody tr th:only-of-type {\n",
       "        vertical-align: middle;\n",
       "    }\n",
       "\n",
       "    .dataframe tbody tr th {\n",
       "        vertical-align: top;\n",
       "    }\n",
       "\n",
       "    .dataframe thead th {\n",
       "        text-align: right;\n",
       "    }\n",
       "</style>\n",
       "<table border=\"1\" class=\"dataframe\">\n",
       "  <thead>\n",
       "    <tr style=\"text-align: right;\">\n",
       "      <th></th>\n",
       "      <th>Postal_Code</th>\n",
       "      <th>Borough</th>\n",
       "      <th>Neighbourhood</th>\n",
       "    </tr>\n",
       "  </thead>\n",
       "  <tbody>\n",
       "    <tr>\n",
       "      <th>6</th>\n",
       "      <td>M1B</td>\n",
       "      <td>Scarborough</td>\n",
       "      <td>Malvern , Rouge</td>\n",
       "    </tr>\n",
       "    <tr>\n",
       "      <th>12</th>\n",
       "      <td>M1C</td>\n",
       "      <td>Scarborough</td>\n",
       "      <td>Rouge Hill , Port Union , Highland Creek</td>\n",
       "    </tr>\n",
       "    <tr>\n",
       "      <th>18</th>\n",
       "      <td>M1E</td>\n",
       "      <td>Scarborough</td>\n",
       "      <td>Guildwood , Morningside , West Hill</td>\n",
       "    </tr>\n",
       "    <tr>\n",
       "      <th>22</th>\n",
       "      <td>M1G</td>\n",
       "      <td>Scarborough</td>\n",
       "      <td>Woburn</td>\n",
       "    </tr>\n",
       "    <tr>\n",
       "      <th>26</th>\n",
       "      <td>M1H</td>\n",
       "      <td>Scarborough</td>\n",
       "      <td>Cedarbrae</td>\n",
       "    </tr>\n",
       "  </tbody>\n",
       "</table>\n",
       "</div>"
      ],
      "text/plain": [
       "   Postal_Code      Borough                             Neighbourhood\n",
       "6          M1B  Scarborough                           Malvern , Rouge\n",
       "12         M1C  Scarborough  Rouge Hill , Port Union , Highland Creek\n",
       "18         M1E  Scarborough       Guildwood , Morningside , West Hill\n",
       "22         M1G  Scarborough                                    Woburn\n",
       "26         M1H  Scarborough                                 Cedarbrae"
      ]
     },
     "execution_count": 81,
     "metadata": {},
     "output_type": "execute_result"
    }
   ],
   "source": [
    "toronto_data = pd.DataFrame.from_dict(toronto_data_list)\n",
    "toronto_data = toronto_data.sort_values(by = 'Postal_Code')\n",
    "toronto_data['Neighbourhood'] = toronto_data['Neighbourhood'].str.replace('/', ',')\n",
    "toronto_data.head()"
   ]
  },
  {
   "cell_type": "code",
   "execution_count": 83,
   "id": "0cb7e2d6",
   "metadata": {},
   "outputs": [
    {
     "data": {
      "text/plain": [
       "(103, 3)"
      ]
     },
     "execution_count": 83,
     "metadata": {},
     "output_type": "execute_result"
    }
   ],
   "source": [
    "toronto_data.shape"
   ]
  },
  {
   "cell_type": "markdown",
   "id": "28bf5cdc",
   "metadata": {},
   "source": [
    "### Last, we save our data to a csv file"
   ]
  },
  {
   "cell_type": "code",
   "execution_count": 84,
   "id": "bc3e0bc6",
   "metadata": {},
   "outputs": [],
   "source": [
    "toronto_data.to_csv('toronto_data.csv')"
   ]
  },
  {
   "cell_type": "code",
   "execution_count": null,
   "id": "bfa7bb85",
   "metadata": {},
   "outputs": [],
   "source": []
  }
 ],
 "metadata": {
  "kernelspec": {
   "display_name": "Python 3",
   "language": "python",
   "name": "python3"
  },
  "language_info": {
   "codemirror_mode": {
    "name": "ipython",
    "version": 3
   },
   "file_extension": ".py",
   "mimetype": "text/x-python",
   "name": "python",
   "nbconvert_exporter": "python",
   "pygments_lexer": "ipython3",
   "version": "3.9.4"
  }
 },
 "nbformat": 4,
 "nbformat_minor": 5
}
